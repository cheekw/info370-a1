{
 "cells": [
  {
   "cell_type": "markdown",
   "metadata": {},
   "source": [
    "# Lyrics Scraping"
   ]
  },
  {
   "cell_type": "markdown",
   "metadata": {},
   "source": [
    "This toolkit is used to scrape lyrics of all songs from a given artist that exists on lyrics.com\n",
    "\n",
    "Importing the functions for the scrape:"
   ]
  },
  {
   "cell_type": "code",
   "execution_count": 2,
   "metadata": {},
   "outputs": [],
   "source": [
    "import lyrics as l"
   ]
  },
  {
   "cell_type": "markdown",
   "metadata": {},
   "source": [
    "Getting the data from a given artist, getting the lyrics of that artist and saving it to a csv:"
   ]
  },
  {
   "cell_type": "code",
   "execution_count": 3,
   "metadata": {},
   "outputs": [],
   "source": [
    "adele = \"Adele\"\n",
    "adeleSongs = l.get_songs(adele)\n",
    "l.get_all_lyrics(adeleSongs)\n",
    "l.save_lyrics(adeleSongs)"
   ]
  },
  {
   "cell_type": "markdown",
   "metadata": {},
   "source": [
    "Second test:"
   ]
  },
  {
   "cell_type": "code",
   "execution_count": 4,
   "metadata": {},
   "outputs": [],
   "source": [
    "sylvan = \"Sylvan Esso\"\n",
    "sylvanSongs = l.get_songs(sylvan)\n",
    "l.get_all_lyrics(sylvanSongs)\n",
    "l.save_lyrics(sylvanSongs)"
   ]
  },
  {
   "cell_type": "markdown",
   "metadata": {},
   "source": [
    "Testing the case for a nonexistant artist:"
   ]
  },
  {
   "cell_type": "code",
   "execution_count": 5,
   "metadata": {
    "scrolled": true
   },
   "outputs": [
    {
     "name": "stdout",
     "output_type": "stream",
     "text": [
      "No songs found get_all_lyrics found 0 lyrics\n",
      "No songs found save_lyrics did not save a csv file\n"
     ]
    }
   ],
   "source": [
    "artist = \"Nonexistant artist\"\n",
    "songs = l.get_songs(artist)\n",
    "l.get_all_lyrics(songs)\n",
    "l.save_lyrics(songs)"
   ]
  },
  {
   "cell_type": "markdown",
   "metadata": {},
   "source": [
    "Testing the case for no songs by the given artist:"
   ]
  },
  {
   "cell_type": "code",
   "execution_count": 6,
   "metadata": {},
   "outputs": [
    {
     "name": "stdout",
     "output_type": "stream",
     "text": [
      "No songs found for given artist get_songs retrieved 0 songs\n",
      "No songs found get_all_lyrics found 0 lyrics\n",
      "No songs found save_lyrics did not save a csv file\n"
     ]
    }
   ],
   "source": [
    "unknown = \"Artist Unknown\"\n",
    "unknownSongs = l.get_songs(unknown)\n",
    "l.get_all_lyrics(unknownSongs)\n",
    "l.save_lyrics(unknownSongs)"
   ]
  },
  {
   "cell_type": "code",
   "execution_count": 7,
   "metadata": {},
   "outputs": [],
   "source": [
    "f = \"F Mob\"\n",
    "f_songs = l.get_songs(f)\n",
    "l.get_all_lyrics(f_songs)\n",
    "l.save_lyrics(f_songs)"
   ]
  },
  {
   "cell_type": "code",
   "execution_count": null,
   "metadata": {},
   "outputs": [],
   "source": []
  }
 ],
 "metadata": {
  "kernelspec": {
   "display_name": "Python 3",
   "language": "python",
   "name": "python3"
  },
  "language_info": {
   "codemirror_mode": {
    "name": "ipython",
    "version": 3
   },
   "file_extension": ".py",
   "mimetype": "text/x-python",
   "name": "python",
   "nbconvert_exporter": "python",
   "pygments_lexer": "ipython3",
   "version": "3.7.0"
  }
 },
 "nbformat": 4,
 "nbformat_minor": 2
}
